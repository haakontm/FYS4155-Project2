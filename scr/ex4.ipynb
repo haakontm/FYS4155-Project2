{
 "cells": [
  {
   "cell_type": "code",
   "execution_count": 18,
   "metadata": {},
   "outputs": [],
   "source": [
    "import numpy as np\n",
    "import matplotlib.pyplot as plt\n",
    "from matplotlib import cm\n",
    "from sklearn.model_selection import train_test_split\n",
    "from sklearn.metrics import r2_score, mean_squared_error\n",
    "from sklearn.datasets import load_breast_cancer\n",
    "\n",
    "from NeuralNetwork import NeuralNetwork\n",
    "\n",
    "data = load_breast_cancer()\n",
    "\n",
    "X_train, X_test, y_train, y_test = train_test_split(data.data, data.target.reshape(-1, 1), test_size=0.3)"
   ]
  },
  {
   "cell_type": "code",
   "execution_count": 22,
   "metadata": {},
   "outputs": [
    {
     "name": "stdout",
     "output_type": "stream",
     "text": [
      "Test R2:   -0.7448979591836733\n"
     ]
    },
    {
     "name": "stderr",
     "output_type": "stream",
     "text": [
      "c:\\repos\\FYS4155-Project2\\scr\\NeuralNetwork.py:24: RuntimeWarning: overflow encountered in exp\n",
      "  self.activation_func = lambda z : 1.0/(1.0+np.exp(-z))\n"
     ]
    }
   ],
   "source": [
    "nn = NeuralNetwork(X_train.shape[1], 50, 1, mini_batch_size=10, epochs=10)\n",
    "nn.fit(X_train, y_train)\n",
    "\n",
    "pred = nn.predict(X_test)\n",
    "\n",
    "print(\"Test R2:   {}\".format(r2_score(y_test, pred)))"
   ]
  },
  {
   "cell_type": "code",
   "execution_count": 38,
   "metadata": {},
   "outputs": [
    {
     "name": "stdout",
     "output_type": "stream",
     "text": [
      "Test R2:   0.5667660208643817\n"
     ]
    }
   ],
   "source": [
    "X_train, X_test, y_train, y_test = train_test_split(data.data, data.target, test_size=0.3)\n",
    "\n",
    "from sklearn.neural_network import MLPClassifier\n",
    "\n",
    "nn = MLPClassifier(max_iter=1000, hidden_layer_sizes=(50, 50))\n",
    "nn.fit(X_train, y_train)\n",
    "\n",
    "pred = nn.predict(X_test)\n",
    "\n",
    "print(\"Test R2:   {}\".format(r2_score(y_test, pred)))"
   ]
  }
 ],
 "metadata": {
  "interpreter": {
   "hash": "eb9bd2f943bcae842206ddeef2d6bb0fb1b0093a69f8137a6f09342779c3c983"
  },
  "kernelspec": {
   "display_name": "Python 3.8.6 64-bit (system)",
   "language": "python",
   "name": "python3"
  },
  "language_info": {
   "codemirror_mode": {
    "name": "ipython",
    "version": 3
   },
   "file_extension": ".py",
   "mimetype": "text/x-python",
   "name": "python",
   "nbconvert_exporter": "python",
   "pygments_lexer": "ipython3",
   "version": "3.8.6"
  },
  "orig_nbformat": 4
 },
 "nbformat": 4,
 "nbformat_minor": 2
}
