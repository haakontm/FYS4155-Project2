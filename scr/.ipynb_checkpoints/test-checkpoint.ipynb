{
 "cells": [
  {
   "cell_type": "code",
   "execution_count": 131,
   "metadata": {},
   "outputs": [
    {
     "data": {
      "image/png": "[encoded data removed]",
      "text/plain": [
       "<Figure size 432x288 with 1 Axes>"
      ]
     },
     "metadata": {
      "needs_background": "light"
     },
     "output_type": "display_data"
    }
   ],
   "source": [
    "import numpy as np\n",
    "from imageio import imread\n",
    "import matplotlib.pyplot as plt\n",
    "from tqdm import tqdm\n",
    "\n",
    "from sklearn.preprocessing import StandardScaler\n",
    "from sklearn.linear_model import LinearRegression, SGDRegressor\n",
    "from sklearn.model_selection import train_test_split\n",
    "from sklearn.metrics import mean_squared_error\n",
    "from sklearn.pipeline import make_pipeline\n",
    "\n",
    "# Load the terrain\n",
    "terrain = imread('data/SRTM_data_Norway_1.tif')\n",
    "\n",
    "z = terrain[2000:2500:20, 500:1000:20]\n",
    "z -= np.min(z)\n",
    "z = z / np.max(z)\n",
    "\n",
    "plt.imshow(z, cmap='gray')\n",
    "\n",
    "x = np.linspace(0, 1, np.shape(z)[0])\n",
    "y = np.linspace(0, 1, np.shape(z)[1])\n",
    "x, y = np.meshgrid(x,y)\n",
    "\n",
    "# X = np.c_[x.reshape(-1, 1), y.reshape(-1, 1)]"
   ]
  },
  {
   "cell_type": "code",
   "execution_count": 132,
   "metadata": {},
   "outputs": [],
   "source": [
    "def create_X(x, y, n):\n",
    "\tif len(x.shape) > 1:\n",
    "\t\tx = np.ravel(x)\n",
    "\t\ty = np.ravel(y)\n",
    "\n",
    "\tN = len(x)\n",
    "\tl = int((n+1)*(n+2)/2)\t\t# Number of elements in beta\n",
    "\tX = np.ones((N,l))\n",
    "\n",
    "\tfor i in range(1,n+1):\n",
    "\t\tq = int((i)*(i+1)/2)\n",
    "\t\tfor k in range(i+1):\n",
    "\t\t\tX[:,q+k] = (x**(i-k))*(y**k)\n",
    "\n",
    "\treturn X[:, 1:]\n",
    "\n",
    "X = create_X(x, y, 4)"
   ]
  },
  {
   "cell_type": "code",
   "execution_count": 133,
   "metadata": {},
   "outputs": [],
   "source": [
    "X_train, X_test, z_train, z_test = train_test_split(X, z.reshape(-1, 1), test_size=0.3)\n",
    "\n",
    "model = LinearRegression()\n",
    "model.fit(X_train, z_train)\n",
    "z_tilde = model.predict(X_train)\n",
    "z_pred = model.predict(X_test)\n",
    "betas = model.coef_"
   ]
  },
  {
   "cell_type": "code",
   "execution_count": 134,
   "metadata": {
    "scrolled": true
   },
   "outputs": [
    {
     "name": "stdout",
     "output_type": "stream",
     "text": [
      "Train MSE: 0.04258066324913766\n",
      "Test MSE:  0.04627951774230415\n"
     ]
    },
    {
     "data": {
      "image/png": "[encoded data removed]",
      "text/plain": [
       "<Figure size 720x288 with 2 Axes>"
      ]
     },
     "metadata": {
      "needs_background": "light"
     },
     "output_type": "display_data"
    }
   ],
   "source": [
    "# print(\"Betas: {}\\n\".format(model.coef_))\n",
    "print(\"Train MSE: {}\".format(mean_squared_error(z_train, z_tilde)))\n",
    "print(\"Test MSE:  {}\".format(mean_squared_error(z_test, z_pred)))\n",
    "\n",
    "fig, (ax1, ax2) = plt.subplots(1, 2)\n",
    "ax1.imshow(model.predict(X).reshape(z.shape), cmap='gray')\n",
    "ax1.set_title('OLS')\n",
    "ax2.imshow(z, cmap='gray')\n",
    "ax2.set_title('Original image')\n",
    "fig.set_figwidth(10)"
   ]
  },
  {
   "cell_type": "code",
   "execution_count": 135,
   "metadata": {},
   "outputs": [],
   "source": [
    "X_train, X_test, z_train, z_test = train_test_split(X, z.ravel(), test_size=0.3)\n",
    "\n",
    "model = SGDRegressor(max_iter = 50, penalty=None, eta0=0.1)\n",
    "model.fit(X_train, z_train)\n",
    "z_tilde = model.predict(X_train)\n",
    "z_pred = model.predict(X_test)"
   ]
  },
  {
   "cell_type": "code",
   "execution_count": 136,
   "metadata": {},
   "outputs": [
    {
     "name": "stdout",
     "output_type": "stream",
     "text": [
      "[[-1.71347623 -0.94220181  4.67746959  7.40292299 -2.60734515 -8.90342601\n",
      "  -4.67884227 -7.07371696  7.11642449  6.27411616 -4.91428524 11.86680113\n",
      "  -2.97308732 -3.49076527]]\n",
      "Train MSE: 0.05715655309966006\n",
      "Test MSE:  0.05650701297806612\n"
     ]
    },
    {
     "data": {
      "image/png": "[encoded data removed]",
      "text/plain": [
       "<Figure size 720x288 with 2 Axes>"
      ]
     },
     "metadata": {
      "needs_background": "light"
     },
     "output_type": "display_data"
    }
   ],
   "source": [
    "print(betas - model.coef_)\n",
    "# print(\"Betas: {}\\n\".format(model.coef_))\n",
    "print(\"Train MSE: {}\".format(mean_squared_error(z_train, z_tilde)))\n",
    "print(\"Test MSE:  {}\".format(mean_squared_error(z_test, z_pred)))\n",
    "\n",
    "fig, (ax1, ax2) = plt.subplots(1, 2)\n",
    "ax1.imshow(model.predict(X).reshape(z.shape), cmap='gray')\n",
    "ax1.set_title('OLS')\n",
    "ax2.imshow(z, cmap='gray')\n",
    "ax2.set_title('Original image')\n",
    "fig.set_figwidth(10)"
   ]
  },
  {
   "cell_type": "code",
   "execution_count": 137,
   "metadata": {},
   "outputs": [
    {
     "name": "stdout",
     "output_type": "stream",
     "text": [
      "[ -88.72079788  182.0011767   -36.06795217   26.48485365   17.4235796\n",
      "  -13.42510097   85.03925947   -0.71686037 -104.4666489    -1.61610875\n",
      "   78.12438507   58.72468612   -8.01210922 -199.91226543]\n"
     ]
    }
   ],
   "source": [
    "n_epochs = 100\n",
    "m = 125\n",
    "M = 5\n",
    "\n",
    "def SGD_linreg(X, y, n_epochs, batch_size, learning_rate):\n",
    "    beta = np.random.randn(X.shape[1])\n",
    "    n_batches = len(y) // batch_size\n",
    "    for epoch in range(n_epochs):\n",
    "        for i in range(n_batches):\n",
    "            batch_idx = np.random.randint(n_batches * batch_size - batch_size)\n",
    "            x_i = X[batch_idx:batch_idx + batch_size]\n",
    "            y_i = y[batch_idx:batch_idx + batch_size]\n",
    "            grad = 2 * x_i.T @ ((x_i @ beta) - y_i)\n",
    "            step_length = 1 / (epoch * n_batches + i + 1 / learning_rate)\n",
    "            beta = beta - step_length * grad\n",
    "    return beta\n",
    "\n",
    "beta = SGD_linreg(X_train, z_train, 100, 5, 0.5)\n",
    "\n",
    "print(beta)"
   ]
  },
  {
   "cell_type": "code",
   "execution_count": 138,
   "metadata": {
    "scrolled": true
   },
   "outputs": [
    {
     "name": "stdout",
     "output_type": "stream",
     "text": [
      "Test MSE:  2134.1546606171796\n"
     ]
    },
    {
     "data": {
      "image/png": "[encoded data removed]",
      "text/plain": [
       "<Figure size 720x288 with 2 Axes>"
      ]
     },
     "metadata": {
      "needs_background": "light"
     },
     "output_type": "display_data"
    }
   ],
   "source": [
    "pred_img = (X @ beta).reshape(z.shape)\n",
    "print(\"Test MSE:  {}\".format(mean_squared_error(z_test, X_test @ beta)))\n",
    "\n",
    "fig, (ax1, ax2) = plt.subplots(1, 2)\n",
    "ax1.imshow(pred_img, cmap='gray')\n",
    "ax1.set_title('OLS')\n",
    "ax2.imshow(z, cmap='gray')\n",
    "ax2.set_title('Original image')\n",
    "fig.set_figwidth(10)"
   ]
  },
  {
   "cell_type": "code",
   "execution_count": 143,
   "metadata": {},
   "outputs": [],
   "source": [
    "n = 10\n",
    "\n",
    "rates = np.logspace(-4, -.5, n)\n",
    "test_mse = np.zeros(n)\n",
    "\n",
    "j = 0\n",
    "for i in rates:\n",
    "    betas = SGD_linreg(X_train, z_train, 100, 5, i)\n",
    "    pred = X_test @ betas\n",
    "    test_mse[j] = mean_squared_error(z_test, pred)\n",
    "    j += 1"
   ]
  },
  {
   "cell_type": "code",
   "execution_count": 144,
   "metadata": {
    "scrolled": true
   },
   "outputs": [
    {
     "data": {
      "text/plain": [
       "[<matplotlib.lines.Line2D at 0x7eff9a0f1c18>]"
      ]
     },
     "execution_count": 144,
     "metadata": {},
     "output_type": "execute_result"
    },
    {
     "data": {
      "image/png": "[encoded data removed]",
      "text/plain": [
       "<Figure size 432x288 with 1 Axes>"
      ]
     },
     "metadata": {
      "needs_background": "light"
     },
     "output_type": "display_data"
    }
   ],
   "source": [
    "plt.plot(np.log10(rates), test_mse)"
   ]
  },
  {
   "cell_type": "code",
   "execution_count": null,
   "metadata": {},
   "outputs": [],
   "source": []
  }
 ],
 "metadata": {
  "interpreter": {
   "hash": "eb9bd2f943bcae842206ddeef2d6bb0fb1b0093a69f8137a6f09342779c3c983"
  },
  "kernelspec": {
   "display_name": "Python 3",
   "language": "python",
   "name": "python3"
  },
  "language_info": {
   "codemirror_mode": {
    "name": "ipython",
    "version": 3
   },
   "file_extension": ".py",
   "mimetype": "text/x-python",
   "name": "python",
   "nbconvert_exporter": "python",
   "pygments_lexer": "ipython3",
   "version": "3.6.9"
  }
 },
 "nbformat": 4,
 "nbformat_minor": 2
}
